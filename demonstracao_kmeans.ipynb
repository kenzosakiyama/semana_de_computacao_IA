{
  "nbformat": 4,
  "nbformat_minor": 0,
  "metadata": {
    "colab": {
      "name": "kmeans_demo",
      "provenance": [],
      "collapsed_sections": []
    },
    "kernelspec": {
      "name": "python3",
      "display_name": "Python 3"
    }
  },
  "cells": [
    {
      "cell_type": "code",
      "metadata": {
        "id": "Yxf-wKje_0QH",
        "colab_type": "code",
        "colab": {}
      },
      "source": [
        "import matplotlib.pyplot as plt\n",
        "import numpy as np\n",
        "from sklearn.cluster import KMeans\n",
        "from random import random\n",
        "\n",
        "X = np.array([[3, 2], [1, 4], [7, 2], [10, 5], [8, 1], [10, 0]])"
      ],
      "execution_count": null,
      "outputs": []
    },
    {
      "cell_type": "code",
      "metadata": {
        "id": "X1i2BczVESNN",
        "colab_type": "code",
        "colab": {}
      },
      "source": [
        "def plot(points, centroids=None, labels=None, new_points=None):\n",
        "  _, ax = plt.subplots(1, 1)\n",
        "\n",
        "  if centroids is None:\n",
        "    for point in points:\n",
        "      x, y = point\n",
        "      ax.scatter(x, y, c=\"red\")\n",
        "  else:\n",
        "    colors = {}\n",
        "\n",
        "    if new_points is not None:\n",
        "      for new_point in new_points:\n",
        "        x, y = new_point\n",
        "        ax.scatter(x, y, c=\"green\")\n",
        "\n",
        "    for indice, centroid in enumerate(centroids):\n",
        "      colors[indice] = [[centroid[0]/10, centroid[1]/10, random()]]\n",
        "      ax.scatter(centroid[0], centroid[1], s=200, c=colors[indice])\n",
        "\n",
        "    for indice, point in enumerate(points):\n",
        "      x, y = point\n",
        "      ax.scatter(x, y, c=colors[labels[indice]])\n",
        "\n",
        "\n",
        "  plt.show()"
      ],
      "execution_count": null,
      "outputs": []
    },
    {
      "cell_type": "code",
      "metadata": {
        "id": "iw26rHbe1ENC",
        "colab_type": "code",
        "colab": {
          "base_uri": "https://localhost:8080/",
          "height": 265
        },
        "outputId": "482a68f2-9843-4337-f3d0-d7d9e49ed8bd"
      },
      "source": [
        "plot(X)"
      ],
      "execution_count": null,
      "outputs": [
        {
          "output_type": "display_data",
          "data": {
            "image/png": "[encoded data removed]",
            "text/plain": [
              "<Figure size 432x288 with 1 Axes>"
            ]
          },
          "metadata": {
            "tags": [],
            "needs_background": "light"
          }
        }
      ]
    },
    {
      "cell_type": "code",
      "metadata": {
        "id": "UkFtueCX2sRk",
        "colab_type": "code",
        "colab": {}
      },
      "source": [
        "kmeans = KMeans(n_clusters=2, random_state=0).fit(X)\n",
        "centroids = kmeans.cluster_centers_\n",
        "labels = kmeans.labels_"
      ],
      "execution_count": null,
      "outputs": []
    },
    {
      "cell_type": "code",
      "metadata": {
        "id": "GYVFJ9rb3syv",
        "colab_type": "code",
        "colab": {
          "base_uri": "https://localhost:8080/",
          "height": 265
        },
        "outputId": "7dad7070-26f8-4e70-d40c-8253d7e8e63c"
      },
      "source": [
        "plot(X, centroids=centroids, labels=labels)"
      ],
      "execution_count": null,
      "outputs": [
        {
          "output_type": "display_data",
          "data": {
            "image/png": "[encoded data removed]",
            "text/plain": [
              "<Figure size 432x288 with 1 Axes>"
            ]
          },
          "metadata": {
            "tags": [],
            "needs_background": "light"
          }
        }
      ]
    },
    {
      "cell_type": "code",
      "metadata": {
        "id": "VlvI3Rsc5YnJ",
        "colab_type": "code",
        "colab": {
          "base_uri": "https://localhost:8080/",
          "height": 265
        },
        "outputId": "846c8b23-c445-4491-876a-028d9b53a008"
      },
      "source": [
        "new_X = np.array([[0, 0], [7, 3]])\n",
        "predicted_values = kmeans.predict(new_X)\n",
        "plot(X, centroids=centroids, labels=labels, new_points=new_X)"
      ],
      "execution_count": null,
      "outputs": [
        {
          "output_type": "display_data",
          "data": {
            "image/png": "[encoded data removed]",
            "text/plain": [
              "<Figure size 432x288 with 1 Axes>"
            ]
          },
          "metadata": {
            "tags": [],
            "needs_background": "light"
          }
        }
      ]
    },
    {
      "cell_type": "code",
      "metadata": {
        "id": "nu_m9ivtR0wU",
        "colab_type": "code",
        "colab": {}
      },
      "source": [
        "X = np.append(X, new_X, axis=0)\n",
        "labels = np.append(labels, predicted_values)"
      ],
      "execution_count": null,
      "outputs": []
    },
    {
      "cell_type": "code",
      "metadata": {
        "id": "DhM1K4-IR72v",
        "colab_type": "code",
        "colab": {
          "base_uri": "https://localhost:8080/",
          "height": 265
        },
        "outputId": "7acefe24-4b34-4454-9812-ae67ff685524"
      },
      "source": [
        "plot(X, centroids=centroids, labels=labels)"
      ],
      "execution_count": null,
      "outputs": [
        {
          "output_type": "display_data",
          "data": {
            "image/png": "[encoded data removed]",
            "text/plain": [
              "<Figure size 432x288 with 1 Axes>"
            ]
          },
          "metadata": {
            "tags": [],
            "needs_background": "light"
          }
        }
      ]
    }
  ]
}