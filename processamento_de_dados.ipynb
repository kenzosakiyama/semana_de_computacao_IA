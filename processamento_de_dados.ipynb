{
 "cells": [
  {
   "cell_type": "code",
   "execution_count": 1,
   "metadata": {
    "colab": {
     "base_uri": "https://localhost:8080/",
     "height": 89
    },
    "colab_type": "code",
    "id": "kT1Cq40wKPAL",
    "outputId": "a2d0c792-b0fa-4da9-b881-8385e3e3a6ab"
   },
   "outputs": [],
   "source": [
    "import pandas as pd\n",
    "import seaborn as sns\n",
    "import matplotlib.pyplot as plt\n",
    "from sklearn.preprocessing import MaxAbsScaler, MinMaxScaler\n",
    "from scipy import stats"
   ]
  },
  {
   "cell_type": "code",
   "execution_count": 2,
   "metadata": {
    "colab": {},
    "colab_type": "code",
    "id": "BWTdDAuNKcyK"
   },
   "outputs": [],
   "source": [
    "# mudar para o caminho do seu drive\n",
    "PATH = \"data/titanic/train.csv\"\n",
    "titanic_df = pd.read_csv(PATH)"
   ]
  },
  {
   "cell_type": "code",
   "execution_count": 3,
   "metadata": {
    "colab": {
     "base_uri": "https://localhost:8080/",
     "height": 347
    },
    "colab_type": "code",
    "id": "oXL0V-dOKoWU",
    "outputId": "34ef3312-019b-44b7-ade0-1ec0ccc3c959"
   },
   "outputs": [
    {
     "name": "stdout",
     "output_type": "stream",
     "text": [
      "<class 'pandas.core.frame.DataFrame'>\n",
      "RangeIndex: 891 entries, 0 to 890\n",
      "Data columns (total 12 columns):\n",
      " #   Column       Non-Null Count  Dtype  \n",
      "---  ------       --------------  -----  \n",
      " 0   PassengerId  891 non-null    int64  \n",
      " 1   Survived     891 non-null    int64  \n",
      " 2   Pclass       891 non-null    int64  \n",
      " 3   Name         891 non-null    object \n",
      " 4   Sex          891 non-null    object \n",
      " 5   Age          714 non-null    float64\n",
      " 6   SibSp        891 non-null    int64  \n",
      " 7   Parch        891 non-null    int64  \n",
      " 8   Ticket       891 non-null    object \n",
      " 9   Fare         891 non-null    float64\n",
      " 10  Cabin        204 non-null    object \n",
      " 11  Embarked     889 non-null    object \n",
      "dtypes: float64(2), int64(5), object(5)\n",
      "memory usage: 83.7+ KB\n"
     ]
    }
   ],
   "source": [
    "titanic_df.info()"
   ]
  },
  {
   "cell_type": "markdown",
   "metadata": {
    "colab_type": "text",
    "id": "JR2k__XTK51Q"
   },
   "source": [
    "#Remoção dados\n"
   ]
  },
  {
   "cell_type": "markdown",
   "metadata": {
    "colab_type": "text",
    "id": "8WVi9yJTSVPn"
   },
   "source": [
    "###remoção direta\n",
    "\n",
    "\n"
   ]
  },
  {
   "cell_type": "code",
   "execution_count": 4,
   "metadata": {
    "colab": {
     "base_uri": "https://localhost:8080/",
     "height": 347
    },
    "colab_type": "code",
    "id": "5Ep7PU1hKoNk",
    "outputId": "a3aef047-68e2-4c93-d679-a27b638976bc"
   },
   "outputs": [
    {
     "name": "stdout",
     "output_type": "stream",
     "text": [
      "<class 'pandas.core.frame.DataFrame'>\n",
      "Int64Index: 183 entries, 1 to 889\n",
      "Data columns (total 12 columns):\n",
      " #   Column       Non-Null Count  Dtype  \n",
      "---  ------       --------------  -----  \n",
      " 0   PassengerId  183 non-null    int64  \n",
      " 1   Survived     183 non-null    int64  \n",
      " 2   Pclass       183 non-null    int64  \n",
      " 3   Name         183 non-null    object \n",
      " 4   Sex          183 non-null    object \n",
      " 5   Age          183 non-null    float64\n",
      " 6   SibSp        183 non-null    int64  \n",
      " 7   Parch        183 non-null    int64  \n",
      " 8   Ticket       183 non-null    object \n",
      " 9   Fare         183 non-null    float64\n",
      " 10  Cabin        183 non-null    object \n",
      " 11  Embarked     183 non-null    object \n",
      "dtypes: float64(2), int64(5), object(5)\n",
      "memory usage: 18.6+ KB\n"
     ]
    }
   ],
   "source": [
    "remo_direta = titanic_df.dropna()\n",
    "remo_direta.info()"
   ]
  },
  {
   "cell_type": "markdown",
   "metadata": {
    "colab_type": "text",
    "id": "XorRP-hDUHzy"
   },
   "source": [
    "###Seleção das colunas para remoção especifica\n"
   ]
  },
  {
   "cell_type": "code",
   "execution_count": 5,
   "metadata": {
    "colab": {
     "base_uri": "https://localhost:8080/",
     "height": 295
    },
    "colab_type": "code",
    "id": "EUO-MCrdMCmv",
    "outputId": "c75407c7-d5a3-45f8-f1f3-0262890ee610"
   },
   "outputs": [
    {
     "name": "stdout",
     "output_type": "stream",
     "text": [
      "<class 'pandas.core.frame.DataFrame'>\n",
      "RangeIndex: 891 entries, 0 to 890\n",
      "Data columns (total 9 columns):\n",
      " #   Column       Non-Null Count  Dtype  \n",
      "---  ------       --------------  -----  \n",
      " 0   PassengerId  891 non-null    int64  \n",
      " 1   Survived     891 non-null    int64  \n",
      " 2   Pclass       891 non-null    int64  \n",
      " 3   Sex          891 non-null    object \n",
      " 4   Age          714 non-null    float64\n",
      " 5   SibSp        891 non-null    int64  \n",
      " 6   Parch        891 non-null    int64  \n",
      " 7   Fare         891 non-null    float64\n",
      " 8   Embarked     889 non-null    object \n",
      "dtypes: float64(2), int64(5), object(2)\n",
      "memory usage: 62.8+ KB\n"
     ]
    }
   ],
   "source": [
    "cols = ['Name','Ticket', 'Cabin']\n",
    "remo_cols = titanic_df.drop(cols, axis=1)\n",
    "remo_cols.info()"
   ]
  },
  {
   "cell_type": "code",
   "execution_count": 6,
   "metadata": {
    "colab": {
     "base_uri": "https://localhost:8080/",
     "height": 295
    },
    "colab_type": "code",
    "id": "WQJMm6RLeq2p",
    "outputId": "48e19117-5a27-4865-cd1d-209fa3d2dbf6"
   },
   "outputs": [
    {
     "name": "stdout",
     "output_type": "stream",
     "text": [
      "<class 'pandas.core.frame.DataFrame'>\n",
      "Int64Index: 712 entries, 0 to 890\n",
      "Data columns (total 9 columns):\n",
      " #   Column       Non-Null Count  Dtype  \n",
      "---  ------       --------------  -----  \n",
      " 0   PassengerId  712 non-null    int64  \n",
      " 1   Survived     712 non-null    int64  \n",
      " 2   Pclass       712 non-null    int64  \n",
      " 3   Sex          712 non-null    object \n",
      " 4   Age          712 non-null    float64\n",
      " 5   SibSp        712 non-null    int64  \n",
      " 6   Parch        712 non-null    int64  \n",
      " 7   Fare         712 non-null    float64\n",
      " 8   Embarked     712 non-null    object \n",
      "dtypes: float64(2), int64(5), object(2)\n",
      "memory usage: 55.6+ KB\n"
     ]
    }
   ],
   "source": [
    "remo_cols = remo_cols.dropna()\n",
    "remo_cols.info()"
   ]
  },
  {
   "cell_type": "markdown",
   "metadata": {
    "colab_type": "text",
    "id": "TBC1ep64LetJ"
   },
   "source": [
    "###Sem remoção de linhas com dados faltantes\n"
   ]
  },
  {
   "cell_type": "code",
   "execution_count": 7,
   "metadata": {
    "colab": {
     "base_uri": "https://localhost:8080/",
     "height": 295
    },
    "colab_type": "code",
    "id": "ujQfGlv4UnSa",
    "outputId": "2427ae5f-d29a-4b85-bce9-3a65099dd391"
   },
   "outputs": [
    {
     "name": "stdout",
     "output_type": "stream",
     "text": [
      "<class 'pandas.core.frame.DataFrame'>\n",
      "RangeIndex: 891 entries, 0 to 890\n",
      "Data columns (total 9 columns):\n",
      " #   Column       Non-Null Count  Dtype  \n",
      "---  ------       --------------  -----  \n",
      " 0   PassengerId  891 non-null    int64  \n",
      " 1   Survived     891 non-null    int64  \n",
      " 2   Pclass       891 non-null    int64  \n",
      " 3   Sex          891 non-null    object \n",
      " 4   Age          714 non-null    float64\n",
      " 5   SibSp        891 non-null    int64  \n",
      " 6   Parch        891 non-null    int64  \n",
      " 7   Fare         891 non-null    float64\n",
      " 8   Embarked     889 non-null    object \n",
      "dtypes: float64(2), int64(5), object(2)\n",
      "memory usage: 62.8+ KB\n"
     ]
    }
   ],
   "source": [
    "fill_cols = titanic_df.copy()\n",
    "cols = ['Name','Ticket', 'Cabin']\n",
    "fill_cols = fill_cols.drop(cols, axis=1)\n",
    "fill_cols.info()"
   ]
  },
  {
   "cell_type": "code",
   "execution_count": 8,
   "metadata": {
    "colab": {
     "base_uri": "https://localhost:8080/",
     "height": 295
    },
    "colab_type": "code",
    "id": "yfb2rF21WfuN",
    "outputId": "512661f5-0688-4413-a2f8-5ca03d9d456c"
   },
   "outputs": [
    {
     "name": "stdout",
     "output_type": "stream",
     "text": [
      "<class 'pandas.core.frame.DataFrame'>\n",
      "RangeIndex: 891 entries, 0 to 890\n",
      "Data columns (total 9 columns):\n",
      " #   Column       Non-Null Count  Dtype  \n",
      "---  ------       --------------  -----  \n",
      " 0   PassengerId  891 non-null    int64  \n",
      " 1   Survived     891 non-null    int64  \n",
      " 2   Pclass       891 non-null    int64  \n",
      " 3   Sex          891 non-null    object \n",
      " 4   Age          891 non-null    float64\n",
      " 5   SibSp        891 non-null    int64  \n",
      " 6   Parch        891 non-null    int64  \n",
      " 7   Fare         891 non-null    float64\n",
      " 8   Embarked     889 non-null    object \n",
      "dtypes: float64(2), int64(5), object(2)\n",
      "memory usage: 62.8+ KB\n"
     ]
    }
   ],
   "source": [
    "fill_cols['Age'] = fill_cols['Age'].interpolate()\n",
    "fill_cols.info()"
   ]
  },
  {
   "cell_type": "code",
   "execution_count": 9,
   "metadata": {
    "colab": {
     "base_uri": "https://localhost:8080/",
     "height": 295
    },
    "colab_type": "code",
    "id": "DYVNNmvuW_LU",
    "outputId": "84ab7f98-96d7-4ff3-9724-2e3832aaf0ef"
   },
   "outputs": [
    {
     "name": "stdout",
     "output_type": "stream",
     "text": [
      "<class 'pandas.core.frame.DataFrame'>\n",
      "Int64Index: 889 entries, 0 to 890\n",
      "Data columns (total 9 columns):\n",
      " #   Column       Non-Null Count  Dtype  \n",
      "---  ------       --------------  -----  \n",
      " 0   PassengerId  889 non-null    int64  \n",
      " 1   Survived     889 non-null    int64  \n",
      " 2   Pclass       889 non-null    int64  \n",
      " 3   Sex          889 non-null    object \n",
      " 4   Age          889 non-null    float64\n",
      " 5   SibSp        889 non-null    int64  \n",
      " 6   Parch        889 non-null    int64  \n",
      " 7   Fare         889 non-null    float64\n",
      " 8   Embarked     889 non-null    object \n",
      "dtypes: float64(2), int64(5), object(2)\n",
      "memory usage: 69.5+ KB\n"
     ]
    }
   ],
   "source": [
    "fill_cols.dropna(inplace=True)\n",
    "fill_cols.info()"
   ]
  },
  {
   "cell_type": "markdown",
   "metadata": {
    "colab_type": "text",
    "id": "b0IhtjeTcUfx"
   },
   "source": [
    "#Transformação de váriaveis catégoricas em váriaveis númericas contínuas"
   ]
  },
  {
   "cell_type": "markdown",
   "metadata": {
    "colab_type": "text",
    "id": "Lif0bK5NgPE3"
   },
   "source": [
    "##Criando variáveis extras"
   ]
  },
  {
   "cell_type": "code",
   "execution_count": 10,
   "metadata": {
    "colab": {
     "base_uri": "https://localhost:8080/",
     "height": 295
    },
    "colab_type": "code",
    "id": "oXLkONkMKoEI",
    "outputId": "e9577d90-8935-46f2-f036-5573b263e5ae"
   },
   "outputs": [
    {
     "name": "stdout",
     "output_type": "stream",
     "text": [
      "<class 'pandas.core.frame.DataFrame'>\n",
      "Int64Index: 889 entries, 0 to 890\n",
      "Data columns (total 9 columns):\n",
      " #   Column       Non-Null Count  Dtype  \n",
      "---  ------       --------------  -----  \n",
      " 0   PassengerId  889 non-null    int64  \n",
      " 1   Survived     889 non-null    int64  \n",
      " 2   Pclass       889 non-null    int64  \n",
      " 3   Sex          889 non-null    object \n",
      " 4   Age          889 non-null    float64\n",
      " 5   SibSp        889 non-null    int64  \n",
      " 6   Parch        889 non-null    int64  \n",
      " 7   Fare         889 non-null    float64\n",
      " 8   Embarked     889 non-null    object \n",
      "dtypes: float64(2), int64(5), object(2)\n",
      "memory usage: 69.5+ KB\n"
     ]
    }
   ],
   "source": [
    "extra_var_ex = fill_cols.copy()\n",
    "extra_var_ex.info()\n"
   ]
  },
  {
   "cell_type": "code",
   "execution_count": 11,
   "metadata": {
    "colab": {
     "base_uri": "https://localhost:8080/",
     "height": 424
    },
    "colab_type": "code",
    "id": "v0gQdHiJgOXB",
    "outputId": "e6e10277-2807-4e32-ecba-9e87f851b599"
   },
   "outputs": [
    {
     "data": {
      "text/html": [
       "<div>\n",
       "<style scoped>\n",
       "    .dataframe tbody tr th:only-of-type {\n",
       "        vertical-align: middle;\n",
       "    }\n",
       "\n",
       "    .dataframe tbody tr th {\n",
       "        vertical-align: top;\n",
       "    }\n",
       "\n",
       "    .dataframe thead th {\n",
       "        text-align: right;\n",
       "    }\n",
       "</style>\n",
       "<table border=\"1\" class=\"dataframe\">\n",
       "  <thead>\n",
       "    <tr style=\"text-align: right;\">\n",
       "      <th></th>\n",
       "      <th>1</th>\n",
       "      <th>2</th>\n",
       "      <th>3</th>\n",
       "      <th>female</th>\n",
       "      <th>male</th>\n",
       "      <th>C</th>\n",
       "      <th>Q</th>\n",
       "      <th>S</th>\n",
       "    </tr>\n",
       "  </thead>\n",
       "  <tbody>\n",
       "    <tr>\n",
       "      <th>0</th>\n",
       "      <td>0</td>\n",
       "      <td>0</td>\n",
       "      <td>1</td>\n",
       "      <td>0</td>\n",
       "      <td>1</td>\n",
       "      <td>0</td>\n",
       "      <td>0</td>\n",
       "      <td>1</td>\n",
       "    </tr>\n",
       "    <tr>\n",
       "      <th>1</th>\n",
       "      <td>1</td>\n",
       "      <td>0</td>\n",
       "      <td>0</td>\n",
       "      <td>1</td>\n",
       "      <td>0</td>\n",
       "      <td>1</td>\n",
       "      <td>0</td>\n",
       "      <td>0</td>\n",
       "    </tr>\n",
       "    <tr>\n",
       "      <th>2</th>\n",
       "      <td>0</td>\n",
       "      <td>0</td>\n",
       "      <td>1</td>\n",
       "      <td>1</td>\n",
       "      <td>0</td>\n",
       "      <td>0</td>\n",
       "      <td>0</td>\n",
       "      <td>1</td>\n",
       "    </tr>\n",
       "    <tr>\n",
       "      <th>3</th>\n",
       "      <td>1</td>\n",
       "      <td>0</td>\n",
       "      <td>0</td>\n",
       "      <td>1</td>\n",
       "      <td>0</td>\n",
       "      <td>0</td>\n",
       "      <td>0</td>\n",
       "      <td>1</td>\n",
       "    </tr>\n",
       "    <tr>\n",
       "      <th>4</th>\n",
       "      <td>0</td>\n",
       "      <td>0</td>\n",
       "      <td>1</td>\n",
       "      <td>0</td>\n",
       "      <td>1</td>\n",
       "      <td>0</td>\n",
       "      <td>0</td>\n",
       "      <td>1</td>\n",
       "    </tr>\n",
       "    <tr>\n",
       "      <th>...</th>\n",
       "      <td>...</td>\n",
       "      <td>...</td>\n",
       "      <td>...</td>\n",
       "      <td>...</td>\n",
       "      <td>...</td>\n",
       "      <td>...</td>\n",
       "      <td>...</td>\n",
       "      <td>...</td>\n",
       "    </tr>\n",
       "    <tr>\n",
       "      <th>886</th>\n",
       "      <td>0</td>\n",
       "      <td>1</td>\n",
       "      <td>0</td>\n",
       "      <td>0</td>\n",
       "      <td>1</td>\n",
       "      <td>0</td>\n",
       "      <td>0</td>\n",
       "      <td>1</td>\n",
       "    </tr>\n",
       "    <tr>\n",
       "      <th>887</th>\n",
       "      <td>1</td>\n",
       "      <td>0</td>\n",
       "      <td>0</td>\n",
       "      <td>1</td>\n",
       "      <td>0</td>\n",
       "      <td>0</td>\n",
       "      <td>0</td>\n",
       "      <td>1</td>\n",
       "    </tr>\n",
       "    <tr>\n",
       "      <th>888</th>\n",
       "      <td>0</td>\n",
       "      <td>0</td>\n",
       "      <td>1</td>\n",
       "      <td>1</td>\n",
       "      <td>0</td>\n",
       "      <td>0</td>\n",
       "      <td>0</td>\n",
       "      <td>1</td>\n",
       "    </tr>\n",
       "    <tr>\n",
       "      <th>889</th>\n",
       "      <td>1</td>\n",
       "      <td>0</td>\n",
       "      <td>0</td>\n",
       "      <td>0</td>\n",
       "      <td>1</td>\n",
       "      <td>1</td>\n",
       "      <td>0</td>\n",
       "      <td>0</td>\n",
       "    </tr>\n",
       "    <tr>\n",
       "      <th>890</th>\n",
       "      <td>0</td>\n",
       "      <td>0</td>\n",
       "      <td>1</td>\n",
       "      <td>0</td>\n",
       "      <td>1</td>\n",
       "      <td>0</td>\n",
       "      <td>1</td>\n",
       "      <td>0</td>\n",
       "    </tr>\n",
       "  </tbody>\n",
       "</table>\n",
       "<p>889 rows × 8 columns</p>\n",
       "</div>"
      ],
      "text/plain": [
       "     1  2  3  female  male  C  Q  S\n",
       "0    0  0  1       0     1  0  0  1\n",
       "1    1  0  0       1     0  1  0  0\n",
       "2    0  0  1       1     0  0  0  1\n",
       "3    1  0  0       1     0  0  0  1\n",
       "4    0  0  1       0     1  0  0  1\n",
       "..  .. .. ..     ...   ... .. .. ..\n",
       "886  0  1  0       0     1  0  0  1\n",
       "887  1  0  0       1     0  0  0  1\n",
       "888  0  0  1       1     0  0  0  1\n",
       "889  1  0  0       0     1  1  0  0\n",
       "890  0  0  1       0     1  0  1  0\n",
       "\n",
       "[889 rows x 8 columns]"
      ]
     },
     "execution_count": 11,
     "metadata": {},
     "output_type": "execute_result"
    }
   ],
   "source": [
    "aux = []\n",
    "cols = ['Pclass', 'Sex', 'Embarked']\n",
    "for col in cols:\n",
    "  aux.append(pd.get_dummies(extra_var_ex[col]))\n",
    "aux = pd.concat(aux, axis=1)\n",
    "aux"
   ]
  },
  {
   "cell_type": "code",
   "execution_count": 12,
   "metadata": {
    "colab": {
     "base_uri": "https://localhost:8080/",
     "height": 382
    },
    "colab_type": "code",
    "id": "X_C1wQM-Kn1T",
    "outputId": "17ddc1bd-3b90-406f-8c1f-39bd2fe7cc9a"
   },
   "outputs": [
    {
     "name": "stdout",
     "output_type": "stream",
     "text": [
      "<class 'pandas.core.frame.DataFrame'>\n",
      "Int64Index: 889 entries, 0 to 890\n",
      "Data columns (total 14 columns):\n",
      " #   Column       Non-Null Count  Dtype  \n",
      "---  ------       --------------  -----  \n",
      " 0   1            889 non-null    uint8  \n",
      " 1   2            889 non-null    uint8  \n",
      " 2   3            889 non-null    uint8  \n",
      " 3   female       889 non-null    uint8  \n",
      " 4   male         889 non-null    uint8  \n",
      " 5   C            889 non-null    uint8  \n",
      " 6   Q            889 non-null    uint8  \n",
      " 7   S            889 non-null    uint8  \n",
      " 8   PassengerId  889 non-null    int64  \n",
      " 9   Survived     889 non-null    int64  \n",
      " 10  Age          889 non-null    float64\n",
      " 11  SibSp        889 non-null    int64  \n",
      " 12  Parch        889 non-null    int64  \n",
      " 13  Fare         889 non-null    float64\n",
      "dtypes: float64(2), int64(4), uint8(8)\n",
      "memory usage: 55.6 KB\n"
     ]
    }
   ],
   "source": [
    "extra_var_ex = pd.concat((aux, extra_var_ex), axis=1)\n",
    "extra_var_ex = extra_var_ex.drop(['Pclass', 'Sex', 'Embarked'], axis=1)\n",
    "extra_var_ex.info()"
   ]
  },
  {
   "cell_type": "markdown",
   "metadata": {
    "colab_type": "text",
    "id": "tKYycInPjMh4"
   },
   "source": [
    "##Substituindo por valores contínuos\n"
   ]
  },
  {
   "cell_type": "code",
   "execution_count": 13,
   "metadata": {
    "colab": {
     "base_uri": "https://localhost:8080/",
     "height": 295
    },
    "colab_type": "code",
    "id": "J7Q8_aq5jROm",
    "outputId": "9e6a080e-2b84-4236-f50f-7100dc4a7dd7"
   },
   "outputs": [
    {
     "name": "stdout",
     "output_type": "stream",
     "text": [
      "<class 'pandas.core.frame.DataFrame'>\n",
      "Int64Index: 889 entries, 0 to 890\n",
      "Data columns (total 9 columns):\n",
      " #   Column       Non-Null Count  Dtype  \n",
      "---  ------       --------------  -----  \n",
      " 0   PassengerId  889 non-null    int64  \n",
      " 1   Survived     889 non-null    int64  \n",
      " 2   Pclass       889 non-null    int64  \n",
      " 3   Sex          889 non-null    object \n",
      " 4   Age          889 non-null    float64\n",
      " 5   SibSp        889 non-null    int64  \n",
      " 6   Parch        889 non-null    int64  \n",
      " 7   Fare         889 non-null    float64\n",
      " 8   Embarked     889 non-null    object \n",
      "dtypes: float64(2), int64(5), object(2)\n",
      "memory usage: 69.5+ KB\n"
     ]
    }
   ],
   "source": [
    "continuous_ex = fill_cols.copy()\n",
    "continuous_ex.info()\n"
   ]
  },
  {
   "cell_type": "code",
   "execution_count": 14,
   "metadata": {
    "colab": {
     "base_uri": "https://localhost:8080/",
     "height": 424
    },
    "colab_type": "code",
    "id": "qzrcegRGjaE3",
    "outputId": "e727292e-0c5b-4b29-c757-ae197c377a34"
   },
   "outputs": [
    {
     "data": {
      "text/html": [
       "<div>\n",
       "<style scoped>\n",
       "    .dataframe tbody tr th:only-of-type {\n",
       "        vertical-align: middle;\n",
       "    }\n",
       "\n",
       "    .dataframe tbody tr th {\n",
       "        vertical-align: top;\n",
       "    }\n",
       "\n",
       "    .dataframe thead th {\n",
       "        text-align: right;\n",
       "    }\n",
       "</style>\n",
       "<table border=\"1\" class=\"dataframe\">\n",
       "  <thead>\n",
       "    <tr style=\"text-align: right;\">\n",
       "      <th></th>\n",
       "      <th>PassengerId</th>\n",
       "      <th>Survived</th>\n",
       "      <th>Pclass</th>\n",
       "      <th>Sex</th>\n",
       "      <th>Age</th>\n",
       "      <th>SibSp</th>\n",
       "      <th>Parch</th>\n",
       "      <th>Fare</th>\n",
       "      <th>Embarked</th>\n",
       "    </tr>\n",
       "  </thead>\n",
       "  <tbody>\n",
       "    <tr>\n",
       "      <th>0</th>\n",
       "      <td>1</td>\n",
       "      <td>0</td>\n",
       "      <td>3</td>\n",
       "      <td>1</td>\n",
       "      <td>22.0</td>\n",
       "      <td>1</td>\n",
       "      <td>0</td>\n",
       "      <td>7.2500</td>\n",
       "      <td>2</td>\n",
       "    </tr>\n",
       "    <tr>\n",
       "      <th>1</th>\n",
       "      <td>2</td>\n",
       "      <td>1</td>\n",
       "      <td>1</td>\n",
       "      <td>0</td>\n",
       "      <td>38.0</td>\n",
       "      <td>1</td>\n",
       "      <td>0</td>\n",
       "      <td>71.2833</td>\n",
       "      <td>0</td>\n",
       "    </tr>\n",
       "    <tr>\n",
       "      <th>2</th>\n",
       "      <td>3</td>\n",
       "      <td>1</td>\n",
       "      <td>3</td>\n",
       "      <td>0</td>\n",
       "      <td>26.0</td>\n",
       "      <td>0</td>\n",
       "      <td>0</td>\n",
       "      <td>7.9250</td>\n",
       "      <td>2</td>\n",
       "    </tr>\n",
       "    <tr>\n",
       "      <th>3</th>\n",
       "      <td>4</td>\n",
       "      <td>1</td>\n",
       "      <td>1</td>\n",
       "      <td>0</td>\n",
       "      <td>35.0</td>\n",
       "      <td>1</td>\n",
       "      <td>0</td>\n",
       "      <td>53.1000</td>\n",
       "      <td>2</td>\n",
       "    </tr>\n",
       "    <tr>\n",
       "      <th>4</th>\n",
       "      <td>5</td>\n",
       "      <td>0</td>\n",
       "      <td>3</td>\n",
       "      <td>1</td>\n",
       "      <td>35.0</td>\n",
       "      <td>0</td>\n",
       "      <td>0</td>\n",
       "      <td>8.0500</td>\n",
       "      <td>2</td>\n",
       "    </tr>\n",
       "    <tr>\n",
       "      <th>...</th>\n",
       "      <td>...</td>\n",
       "      <td>...</td>\n",
       "      <td>...</td>\n",
       "      <td>...</td>\n",
       "      <td>...</td>\n",
       "      <td>...</td>\n",
       "      <td>...</td>\n",
       "      <td>...</td>\n",
       "      <td>...</td>\n",
       "    </tr>\n",
       "    <tr>\n",
       "      <th>886</th>\n",
       "      <td>887</td>\n",
       "      <td>0</td>\n",
       "      <td>2</td>\n",
       "      <td>1</td>\n",
       "      <td>27.0</td>\n",
       "      <td>0</td>\n",
       "      <td>0</td>\n",
       "      <td>13.0000</td>\n",
       "      <td>2</td>\n",
       "    </tr>\n",
       "    <tr>\n",
       "      <th>887</th>\n",
       "      <td>888</td>\n",
       "      <td>1</td>\n",
       "      <td>1</td>\n",
       "      <td>0</td>\n",
       "      <td>19.0</td>\n",
       "      <td>0</td>\n",
       "      <td>0</td>\n",
       "      <td>30.0000</td>\n",
       "      <td>2</td>\n",
       "    </tr>\n",
       "    <tr>\n",
       "      <th>888</th>\n",
       "      <td>889</td>\n",
       "      <td>0</td>\n",
       "      <td>3</td>\n",
       "      <td>0</td>\n",
       "      <td>22.5</td>\n",
       "      <td>1</td>\n",
       "      <td>2</td>\n",
       "      <td>23.4500</td>\n",
       "      <td>2</td>\n",
       "    </tr>\n",
       "    <tr>\n",
       "      <th>889</th>\n",
       "      <td>890</td>\n",
       "      <td>1</td>\n",
       "      <td>1</td>\n",
       "      <td>1</td>\n",
       "      <td>26.0</td>\n",
       "      <td>0</td>\n",
       "      <td>0</td>\n",
       "      <td>30.0000</td>\n",
       "      <td>0</td>\n",
       "    </tr>\n",
       "    <tr>\n",
       "      <th>890</th>\n",
       "      <td>891</td>\n",
       "      <td>0</td>\n",
       "      <td>3</td>\n",
       "      <td>1</td>\n",
       "      <td>32.0</td>\n",
       "      <td>0</td>\n",
       "      <td>0</td>\n",
       "      <td>7.7500</td>\n",
       "      <td>1</td>\n",
       "    </tr>\n",
       "  </tbody>\n",
       "</table>\n",
       "<p>889 rows × 9 columns</p>\n",
       "</div>"
      ],
      "text/plain": [
       "     PassengerId  Survived  Pclass  Sex   Age  SibSp  Parch     Fare  Embarked\n",
       "0              1         0       3    1  22.0      1      0   7.2500         2\n",
       "1              2         1       1    0  38.0      1      0  71.2833         0\n",
       "2              3         1       3    0  26.0      0      0   7.9250         2\n",
       "3              4         1       1    0  35.0      1      0  53.1000         2\n",
       "4              5         0       3    1  35.0      0      0   8.0500         2\n",
       "..           ...       ...     ...  ...   ...    ...    ...      ...       ...\n",
       "886          887         0       2    1  27.0      0      0  13.0000         2\n",
       "887          888         1       1    0  19.0      0      0  30.0000         2\n",
       "888          889         0       3    0  22.5      1      2  23.4500         2\n",
       "889          890         1       1    1  26.0      0      0  30.0000         0\n",
       "890          891         0       3    1  32.0      0      0   7.7500         1\n",
       "\n",
       "[889 rows x 9 columns]"
      ]
     },
     "execution_count": 14,
     "metadata": {},
     "output_type": "execute_result"
    }
   ],
   "source": [
    "# Colunas para modificar: Embark, Sex\n",
    "replace_map = { 'Embarked': {'C':0, 'Q': 1, 'S':2}, 'Sex': {'female':0, 'male':1}}\n",
    "continuous_ex.replace(replace_map, inplace=True)\n",
    "# replace_map = {}\n",
    "# continuous_ex.replace(replace_map, inplace=True)\n",
    "continuous_ex\n",
    "\n"
   ]
  },
  {
   "cell_type": "code",
   "execution_count": 15,
   "metadata": {
    "colab": {
     "base_uri": "https://localhost:8080/",
     "height": 554
    },
    "colab_type": "code",
    "id": "eznFghXOQYGC",
    "outputId": "4aa9f5ce-3baa-46df-9fda-2f30111bb328"
   },
   "outputs": [
    {
     "data": {
      "text/plain": [
       "<matplotlib.axes._subplots.AxesSubplot at 0x7f282861b590>"
      ]
     },
     "execution_count": 15,
     "metadata": {},
     "output_type": "execute_result"
    },
    {
     "data": {
      "image/png": "[encoded data removed]",
      "text/plain": [
       "<Figure size 720x576 with 2 Axes>"
      ]
     },
     "metadata": {
      "needs_background": "light"
     },
     "output_type": "display_data"
    }
   ],
   "source": [
    "  corr = continuous_ex.corr()\n",
    "  plt.subplots(figsize=(10,8))\n",
    "  sns.heatmap(corr, annot=True, cmap=plt.cm.Reds,)"
   ]
  },
  {
   "cell_type": "code",
   "execution_count": 16,
   "metadata": {
    "colab": {
     "base_uri": "https://localhost:8080/",
     "height": 295
    },
    "colab_type": "code",
    "id": "IMNWFfGopuv0",
    "outputId": "e5a4c51f-bb7a-4725-faca-2513690d462e"
   },
   "outputs": [
    {
     "name": "stdout",
     "output_type": "stream",
     "text": [
      "<class 'pandas.core.frame.DataFrame'>\n",
      "Int64Index: 889 entries, 0 to 890\n",
      "Data columns (total 9 columns):\n",
      " #   Column       Non-Null Count  Dtype  \n",
      "---  ------       --------------  -----  \n",
      " 0   PassengerId  889 non-null    int64  \n",
      " 1   Survived     889 non-null    int64  \n",
      " 2   Pclass       889 non-null    int64  \n",
      " 3   Sex          889 non-null    int64  \n",
      " 4   Age          889 non-null    float64\n",
      " 5   SibSp        889 non-null    int64  \n",
      " 6   Parch        889 non-null    int64  \n",
      " 7   Fare         889 non-null    float64\n",
      " 8   Embarked     889 non-null    int64  \n",
      "dtypes: float64(2), int64(7)\n",
      "memory usage: 69.5 KB\n"
     ]
    }
   ],
   "source": [
    "continuous_ex.info()"
   ]
  },
  {
   "cell_type": "markdown",
   "metadata": {
    "colab_type": "text",
    "id": "aGAH7MaOqvs-"
   },
   "source": [
    "#Normalização"
   ]
  },
  {
   "cell_type": "markdown",
   "metadata": {
    "colab_type": "text",
    "id": "1N0jF-NVZNhw"
   },
   "source": [
    "Nessa sessão nós normalizaremos a coluna \"Fare\" que é o valor da passagem dos passageiros"
   ]
  },
  {
   "cell_type": "markdown",
   "metadata": {
    "colab_type": "text",
    "id": "qMfo0LPyZQZs"
   },
   "source": [
    "## Max norm\n"
   ]
  },
  {
   "cell_type": "markdown",
   "metadata": {
    "colab_type": "text",
    "id": "B2XOwtxamr7g"
   },
   "source": [
    "$\\frac{X(i)}{max(X)}$"
   ]
  },
  {
   "cell_type": "code",
   "execution_count": 17,
   "metadata": {
    "colab": {
     "base_uri": "https://localhost:8080/",
     "height": 35
    },
    "colab_type": "code",
    "id": "pVykvEniZ6I8",
    "outputId": "ec5cae62-6807-4688-d348-2b50f8382cbc"
   },
   "outputs": [
    {
     "data": {
      "text/plain": [
       "512.3292"
      ]
     },
     "execution_count": 17,
     "metadata": {},
     "output_type": "execute_result"
    }
   ],
   "source": [
    "max_norm_df = continuous_ex.copy()\n",
    "max_fare = max_norm_df['Fare'].max()\n",
    "max_fare"
   ]
  },
  {
   "cell_type": "code",
   "execution_count": 18,
   "metadata": {
    "colab": {
     "base_uri": "https://localhost:8080/",
     "height": 283
    },
    "colab_type": "code",
    "id": "DMTIP5IUksq4",
    "outputId": "4edc4575-ec04-49fd-e3cc-736457ebff89"
   },
   "outputs": [
    {
     "data": {
      "text/plain": [
       "<matplotlib.axes._subplots.AxesSubplot at 0x7f27fdcd7790>"
      ]
     },
     "execution_count": 18,
     "metadata": {},
     "output_type": "execute_result"
    },
    {
     "data": {
      "image/png": "[encoded data removed]",
      "text/plain": [
       "<Figure size 432x288 with 1 Axes>"
      ]
     },
     "metadata": {
      "needs_background": "light"
     },
     "output_type": "display_data"
    }
   ],
   "source": [
    "max_norm_df['Fare'] = max_norm_df['Fare']/max_fare\n",
    "max_norm_df['Fare'].plot()"
   ]
  },
  {
   "cell_type": "markdown",
   "metadata": {
    "colab_type": "text",
    "id": "sQirGi7pZHPk"
   },
   "source": [
    "## Exercicios"
   ]
  },
  {
   "cell_type": "markdown",
   "metadata": {
    "colab_type": "text",
    "id": "rdeik7aFZTpL"
   },
   "source": [
    "### Min Max norm\n"
   ]
  },
  {
   "cell_type": "markdown",
   "metadata": {
    "colab_type": "text",
    "id": "ut_aOakjoLop"
   },
   "source": [
    "$\\frac{X(i)- min(X}{max(X)-min(X)}$"
   ]
  },
  {
   "cell_type": "code",
   "execution_count": null,
   "metadata": {
    "colab": {
     "base_uri": "https://localhost:8080/",
     "height": 35
    },
    "colab_type": "code",
    "id": "J1avBmR5rd24",
    "outputId": "67ac0ee3-01a2-4bfb-d894-19f558687265"
   },
   "outputs": [
    {
     "data": {
      "text/plain": [
       "(512.3292, 0.0)"
      ]
     },
     "execution_count": 99,
     "metadata": {
      "tags": []
     },
     "output_type": "execute_result"
    }
   ],
   "source": [
    "min_max_norm_df = continuous_ex.copy()\n",
    "fare_max = min_max_norm_df['Fare'].max()\n",
    "fare_min = min_max_norm_df['Fare'].min()\n",
    "fare_max, fare_min"
   ]
  },
  {
   "cell_type": "code",
   "execution_count": null,
   "metadata": {
    "colab": {
     "base_uri": "https://localhost:8080/",
     "height": 283
    },
    "colab_type": "code",
    "id": "hYmIstdDtnwj",
    "outputId": "cac54665-f472-4e38-a070-d3b4b2481a8d"
   },
   "outputs": [
    {
     "data": {
      "text/plain": [
       "<matplotlib.axes._subplots.AxesSubplot at 0x7fdb38b6c6a0>"
      ]
     },
     "execution_count": 102,
     "metadata": {
      "tags": []
     },
     "output_type": "execute_result"
    },
    {
     "data": {
      "image/png": "[encoded data removed]",
      "text/plain": [
       "<Figure size 432x288 with 1 Axes>"
      ]
     },
     "metadata": {
      "needs_background": "light",
      "tags": []
     },
     "output_type": "display_data"
    }
   ],
   "source": [
    "min_max_norm_df['Fare'] = (min_max_norm_df['Fare']-fare_min)/(fare_max-fare_min)\n",
    "min_max_norm_df['Fare'].plot()"
   ]
  },
  {
   "cell_type": "markdown",
   "metadata": {
    "colab_type": "text",
    "id": "j6-gNfPaZWgU"
   },
   "source": [
    "### Z-score norm\n"
   ]
  },
  {
   "cell_type": "markdown",
   "metadata": {
    "colab_type": "text",
    "id": "J0gEUOiignQ7"
   },
   "source": [
    "**$\\frac{i-\\mu} {\\sigma}$** \\\\\n",
    "$\\mu$ = média \\\\\n",
    "$\\sigma$ = desvio padrão\n"
   ]
  },
  {
   "cell_type": "code",
   "execution_count": 19,
   "metadata": {
    "colab": {
     "base_uri": "https://localhost:8080/",
     "height": 35
    },
    "colab_type": "code",
    "id": "q-cwIJ3fdLPR",
    "outputId": "3361b9e6-cca5-4951-d815-063bc65e73a8"
   },
   "outputs": [
    {
     "data": {
      "text/plain": [
       "(32.09668087739032, 49.697504316707956)"
      ]
     },
     "execution_count": 19,
     "metadata": {},
     "output_type": "execute_result"
    }
   ],
   "source": [
    "zscore_norm_df = continuous_ex.copy()\n",
    "fare_mean = zscore_norm_df['Fare'].mean()\n",
    "fare_std = zscore_norm_df['Fare'].std()\n",
    "fare_mean, fare_std"
   ]
  },
  {
   "cell_type": "code",
   "execution_count": 20,
   "metadata": {
    "colab": {
     "base_uri": "https://localhost:8080/",
     "height": 284
    },
    "colab_type": "code",
    "id": "YoVhM1onqxob",
    "outputId": "3ee0d4f6-545f-4263-a2f5-5629eef07e60"
   },
   "outputs": [
    {
     "data": {
      "text/plain": [
       "<matplotlib.axes._subplots.AxesSubplot at 0x7f27fdca98d0>"
      ]
     },
     "execution_count": 20,
     "metadata": {},
     "output_type": "execute_result"
    },
    {
     "data": {
      "image/png": "[encoded data removed]",
      "text/plain": [
       "<Figure size 432x288 with 1 Axes>"
      ]
     },
     "metadata": {
      "needs_background": "light"
     },
     "output_type": "display_data"
    }
   ],
   "source": [
    "zscore_norm_df['Fare'] = (zscore_norm_df['Fare']-fare_mean)/fare_std\n",
    "zscore_norm_df['Fare'].plot()"
   ]
  },
  {
   "cell_type": "markdown",
   "metadata": {
    "colab_type": "text",
    "id": "BqKYjClBt79w"
   },
   "source": [
    "# com sklearn e scipy"
   ]
  },
  {
   "cell_type": "code",
   "execution_count": 23,
   "metadata": {
    "colab": {},
    "colab_type": "code",
    "id": "k9S180pLjwAn"
   },
   "outputs": [
    {
     "data": {
      "text/plain": [
       "array([[-5.17388554e-02],\n",
       "       [ 8.15992619e-02],\n",
       "       [-5.03332863e-02],\n",
       "       [ 4.37357286e-02],\n",
       "       [-5.00729957e-02],\n",
       "       [-4.92227826e-02],\n",
       "       [ 4.11588519e-02],\n",
       "       [-2.29507175e-02],\n",
       "       [-4.36525642e-02],\n",
       "       [-4.21854164e-03],\n",
       "       [-3.20608877e-02],\n",
       "       [-1.15499902e-02],\n",
       "       [-5.00729957e-02],\n",
       "       [-1.71100632e-03],\n",
       "       [-5.04807149e-02],\n",
       "       [-3.35185150e-02],\n",
       "       [-6.18800427e-03],\n",
       "       [-3.97654888e-02],\n",
       "       [-2.93538657e-02],\n",
       "       [-5.17909135e-02],\n",
       "       [-1.26952687e-02],\n",
       "       [-3.97654888e-02],\n",
       "       [-5.01163081e-02],\n",
       "       [ 7.08681521e-03],\n",
       "       [-2.29507175e-02],\n",
       "       [-1.47674480e-03],\n",
       "       [-5.17909135e-02],\n",
       "       [ 4.80815667e-01],\n",
       "       [-5.04286568e-02],\n",
       "       [-5.03940902e-02],\n",
       "       [-9.11200450e-03],\n",
       "       [ 2.38268161e-01],\n",
       "       [-5.06976931e-02],\n",
       "       [-4.49713004e-02],\n",
       "       [ 1.04270571e-01],\n",
       "       [ 4.14451715e-02],\n",
       "       [-5.17821678e-02],\n",
       "       [-5.00729957e-02],\n",
       "       [-2.93538657e-02],\n",
       "       [-4.34268402e-02],\n",
       "       [-4.71056831e-02],\n",
       "       [-2.31068918e-02],\n",
       "       [-5.03940902e-02],\n",
       "       [ 1.97456831e-02],\n",
       "       [-5.04286568e-02],\n",
       "       [-5.00729957e-02],\n",
       "       [-3.45596773e-02],\n",
       "       [-5.06976931e-02],\n",
       "       [-2.16925770e-02],\n",
       "       [-2.97703306e-02],\n",
       "       [ 1.58065496e-02],\n",
       "       [-5.05935769e-02],\n",
       "       [ 9.29393936e-02],\n",
       "       [-1.26952687e-02],\n",
       "       [ 6.22251054e-02],\n",
       "       [ 7.08681521e-03],\n",
       "       [-4.49713004e-02],\n",
       "       [-5.17821678e-02],\n",
       "       [-9.05120063e-03],\n",
       "       [ 3.08253159e-02],\n",
       "       [-5.17821678e-02],\n",
       "       [ 1.06986339e-01],\n",
       "       [-8.73885193e-03],\n",
       "       [-9.11200450e-03],\n",
       "       [-3.50890042e-02],\n",
       "       [-4.49713004e-02],\n",
       "       [-4.98474800e-02],\n",
       "       [-5.03332863e-02],\n",
       "       [-4.87975719e-02],\n",
       "       [-4.49713004e-02],\n",
       "       [ 3.08253159e-02],\n",
       "       [ 8.62151509e-02],\n",
       "       [-3.67373724e-02],\n",
       "       [ 5.08068866e-02],\n",
       "       [-5.09059256e-02],\n",
       "       [-5.03940902e-02],\n",
       "       [-5.00729957e-02],\n",
       "       [-6.44829484e-03],\n",
       "       [-4.08587093e-02],\n",
       "       [-4.80947873e-02],\n",
       "       [-4.70536250e-02],\n",
       "       [-5.06196059e-02],\n",
       "       [ 3.12417809e-02],\n",
       "       [-4.49713004e-02],\n",
       "       [-3.38308637e-02],\n",
       "       [ 4.74420001e-03],\n",
       "       [-5.00729957e-02],\n",
       "       [ 4.80815667e-01],\n",
       "       [-5.00729957e-02],\n",
       "       [-5.00729957e-02],\n",
       "       [-5.04807149e-02],\n",
       "       [ 6.05504999e-02],\n",
       "       [-2.39918798e-02],\n",
       "       [-5.17388554e-02],\n",
       "       [-5.00729957e-02],\n",
       "       [ 5.32558505e-03],\n",
       "       [ 6.50968393e-02],\n",
       "       [-1.89422426e-02],\n",
       "       [-1.26952687e-02],\n",
       "       [-5.03940902e-02],\n",
       "       [-5.03940902e-02],\n",
       "       [ 9.41019555e-02],\n",
       "       [-4.88148552e-02],\n",
       "       [-5.03332863e-02],\n",
       "       [-5.03940902e-02],\n",
       "       [-5.09059256e-02],\n",
       "       [-5.06456350e-02],\n",
       "       [-5.03940902e-02],\n",
       "       [-1.65475693e-02],\n",
       "       [ 4.14451715e-02],\n",
       "       [-3.67373724e-02],\n",
       "       [-5.00729957e-02],\n",
       "       [-4.63768695e-02],\n",
       "       [-3.67288348e-02],\n",
       "       [-5.03332863e-02],\n",
       "       [-5.06976931e-02],\n",
       "       [-2.31068918e-02],\n",
       "       [ 4.48582948e-01],\n",
       "       [-1.71100632e-03],\n",
       "       [ 8.62151509e-02],\n",
       "       [-5.00729957e-02],\n",
       "       [-4.21854164e-03],\n",
       "       [-3.97654888e-02],\n",
       "       [ 9.41019555e-02],\n",
       "       [-4.34268402e-02],\n",
       "       [-5.06976931e-02],\n",
       "       [-5.19643712e-02],\n",
       "       [-2.02784703e-02],\n",
       "       [-5.23114947e-02],\n",
       "       [-5.03940902e-02],\n",
       "       [-5.21553204e-02],\n",
       "       [-3.66420019e-02],\n",
       "       [-1.26952687e-02],\n",
       "       [-3.97654888e-02],\n",
       "       [-3.55054691e-02],\n",
       "       [-1.21053462e-02],\n",
       "       [ 4.37357286e-02],\n",
       "       [-4.76435476e-02],\n",
       "       [ 9.80844013e-02],\n",
       "       [-3.50890042e-02],\n",
       "       [-5.06976931e-02],\n",
       "       [-3.38308637e-02],\n",
       "       [-5.27800177e-02],\n",
       "       [-4.28889758e-02],\n",
       "       [ 9.68972099e-03],\n",
       "       [-5.06023226e-02],\n",
       "       [ 4.74420001e-03],\n",
       "       [-1.26952687e-02],\n",
       "       [-3.97654888e-02],\n",
       "       [-4.07545930e-02],\n",
       "       [ 7.18471110e-02],\n",
       "       [-5.00729957e-02],\n",
       "       [-3.66420019e-02],\n",
       "       [-5.16087101e-02],\n",
       "       [ 6.09757106e-02],\n",
       "       [-5.07324679e-02],\n",
       "       [-5.00729957e-02],\n",
       "       [-4.87975719e-02],\n",
       "       [ 7.79899687e-02],\n",
       "       [-3.33102825e-02],\n",
       "       [-3.40390961e-02],\n",
       "       [-5.06456350e-02],\n",
       "       [-4.87975719e-02],\n",
       "       [ 1.58065496e-02],\n",
       "       [-2.40959960e-02],\n",
       "       [ 4.76921454e-02],\n",
       "       [-8.73885193e-03],\n",
       "       [-1.28514431e-02],\n",
       "       [ 5.08068866e-02],\n",
       "       [ 2.92216596e-03],\n",
       "       [-6.18800427e-03],\n",
       "       [-4.36525642e-02],\n",
       "       [-5.03332863e-02],\n",
       "       [-2.91708875e-03],\n",
       "       [-5.04807149e-02],\n",
       "       [-1.38057724e-02],\n",
       "       [-7.04696317e-03],\n",
       "       [-3.97654888e-02],\n",
       "       [-6.68357090e-02],\n",
       "       [ 7.79899687e-02],\n",
       "       [-3.54967234e-02],\n",
       "       [-1.47674480e-03],\n",
       "       [ 1.43749514e-02],\n",
       "       [-2.09725091e-02],\n",
       "       [ 3.72805223e-02],\n",
       "       [-3.45596773e-02],\n",
       "       [-1.15499902e-02],\n",
       "       [-3.45596773e-02],\n",
       "       [-5.03940902e-02],\n",
       "       [-3.97654888e-02],\n",
       "       [-3.97654888e-02],\n",
       "       [-5.04807149e-02],\n",
       "       [-1.26952687e-02],\n",
       "       [-9.11200450e-03],\n",
       "       [ 2.38268161e-01],\n",
       "       [-5.06976931e-02],\n",
       "       [-4.93354363e-02],\n",
       "       [-5.06976931e-02],\n",
       "       [-3.97654888e-02],\n",
       "       [-4.70536250e-02],\n",
       "       [ 7.79899687e-02],\n",
       "       [-5.33093447e-02],\n",
       "       [-5.17909135e-02],\n",
       "       [-5.00729957e-02],\n",
       "       [-4.50493876e-02],\n",
       "       [-3.38308637e-02],\n",
       "       [-2.77140351e-02],\n",
       "       [-5.06976931e-02],\n",
       "       [-2.28364560e-03],\n",
       "       [-5.21553204e-02],\n",
       "       [-2.31068918e-02],\n",
       "       [-5.17388554e-02],\n",
       "       [-3.97654888e-02],\n",
       "       [-5.06976931e-02],\n",
       "       [ 1.69039613e-01],\n",
       "       [-5.03332863e-02],\n",
       "       [-1.06129441e-02],\n",
       "       [ 9.20283766e-02],\n",
       "       [-4.49713004e-02],\n",
       "       [-5.00729957e-02],\n",
       "       [-3.97654888e-02],\n",
       "       [-5.00729957e-02],\n",
       "       [-5.03940902e-02],\n",
       "       [ 1.20573507e-01],\n",
       "       [-4.73659737e-02],\n",
       "       [-4.49713004e-02],\n",
       "       [-5.17388554e-02],\n",
       "       [-3.97654888e-02],\n",
       "       [-1.38057724e-02],\n",
       "       [ 1.06986339e-01],\n",
       "       [-5.06456350e-02],\n",
       "       [-3.87243265e-02],\n",
       "       [-1.47674480e-03],\n",
       "       [-4.49713004e-02],\n",
       "       [-5.11141580e-02],\n",
       "       [-1.26952687e-02],\n",
       "       [-1.21746876e-02],\n",
       "       [-4.49713004e-02],\n",
       "       [-4.12751742e-02],\n",
       "       [-3.67373724e-02],\n",
       "       [-3.45596773e-02],\n",
       "       [-4.49713004e-02],\n",
       "       [-5.19991460e-02],\n",
       "       [-5.17909135e-02],\n",
       "       [ 1.20573507e-01],\n",
       "       [-5.06456350e-02],\n",
       "       [-3.66420019e-02],\n",
       "       [ 4.25991958e-02],\n",
       "       [-1.26952687e-02],\n",
       "       [-5.17388554e-02],\n",
       "       [-4.50493876e-02],\n",
       "       [-1.15499902e-02],\n",
       "       [-3.33102825e-02],\n",
       "       [-2.47467225e-02],\n",
       "       [-3.50890042e-02],\n",
       "       [ 9.80844013e-02],\n",
       "       [ 1.13285371e-01],\n",
       "       [ 1.00000000e+00],\n",
       "       [-1.26952687e-02],\n",
       "       [-5.06976931e-02],\n",
       "       [-1.47674480e-03],\n",
       "       [ 9.90214474e-02],\n",
       "       [-6.68357090e-02],\n",
       "       [-5.06976931e-02],\n",
       "       [-4.49713004e-02],\n",
       "       [ 1.58065496e-02],\n",
       "       [-5.06456350e-02],\n",
       "       [ 2.52723034e-01],\n",
       "       [ 2.15596852e-01],\n",
       "       [-2.28364560e-03],\n",
       "       [-6.68357090e-02],\n",
       "       [-2.62303788e-02],\n",
       "       [-4.99066761e-03],\n",
       "       [-5.06976931e-02],\n",
       "       [ 9.54987788e-02],\n",
       "       [-5.06976931e-02],\n",
       "       [-6.68357090e-02],\n",
       "       [-6.18800427e-03],\n",
       "       [-2.46686353e-02],\n",
       "       [-5.06976931e-02],\n",
       "       [-5.04807149e-02],\n",
       "       [-4.70536250e-02],\n",
       "       [-5.00729957e-02],\n",
       "       [-1.26952687e-02],\n",
       "       [-4.87975719e-02],\n",
       "       [-4.70536250e-02],\n",
       "       [-5.03940902e-02],\n",
       "       [-3.97654888e-02],\n",
       "       [-5.06976931e-02],\n",
       "       [ 9.73555877e-02],\n",
       "       [ 1.22820752e-01],\n",
       "       [-4.00257794e-02],\n",
       "       [-4.84071360e-02],\n",
       "       [-5.03940902e-02],\n",
       "       [-9.11200450e-03],\n",
       "       [-5.17821678e-02],\n",
       "       [ 2.48740588e-01],\n",
       "       [-3.32480791e-03],\n",
       "       [ 4.48582948e-01],\n",
       "       [-5.06976931e-02],\n",
       "       [-1.84216614e-02],\n",
       "       [-6.68357090e-02],\n",
       "       [-4.11189998e-02],\n",
       "       [-5.00729957e-02],\n",
       "       [ 2.48740588e-01],\n",
       "       [ 1.64059317e-01],\n",
       "       [ 1.59929443e-01],\n",
       "       [-1.68599180e-02],\n",
       "       [ 5.17093661e-02],\n",
       "       [ 1.06326867e-01],\n",
       "       [ 4.79514214e-01],\n",
       "       [-1.26952687e-02],\n",
       "       [-5.03940902e-02],\n",
       "       [-1.21746876e-02],\n",
       "       [-5.04807149e-02],\n",
       "       [-1.26952687e-02],\n",
       "       [-3.76831642e-02],\n",
       "       [ 2.76470280e-01],\n",
       "       [ 2.13236953e-01],\n",
       "       [-5.17388554e-02],\n",
       "       [-5.03940902e-02],\n",
       "       [-4.11189998e-02],\n",
       "       [-6.44829484e-03],\n",
       "       [ 7.79899687e-02],\n",
       "       [ 2.15596852e-01],\n",
       "       [-5.38472091e-02],\n",
       "       [-3.97654888e-02],\n",
       "       [-2.40959960e-02],\n",
       "       [ 5.38958069e-02],\n",
       "       [-1.84216614e-02],\n",
       "       [-7.48945716e-03],\n",
       "       [ 2.52723034e-01],\n",
       "       [-2.93538657e-02],\n",
       "       [ 2.11466977e-01],\n",
       "       [-5.03940902e-02],\n",
       "       [ 7.18471110e-02],\n",
       "       [ 2.13236953e-01],\n",
       "       [-5.00729957e-02],\n",
       "       [ 7.08681521e-03],\n",
       "       [-1.26952687e-02],\n",
       "       [ 4.80815667e-01],\n",
       "       [-3.97654888e-02],\n",
       "       [-3.97654888e-02],\n",
       "       [-3.97654888e-02],\n",
       "       [-3.97654888e-02],\n",
       "       [-3.97654888e-02],\n",
       "       [-3.33102825e-02],\n",
       "       [-3.37267474e-02],\n",
       "       [-4.87975719e-02],\n",
       "       [-4.76262643e-02],\n",
       "       [ 6.04565290e-03],\n",
       "       [-5.17821678e-02],\n",
       "       [-2.97703306e-02],\n",
       "       [-5.17909135e-02],\n",
       "       [-4.70536250e-02],\n",
       "       [ 4.76921454e-02],\n",
       "       [-3.97654888e-02],\n",
       "       [-5.04286568e-02],\n",
       "       [-5.04286568e-02],\n",
       "       [-8.73885193e-03],\n",
       "       [-9.11200450e-03],\n",
       "       [-3.67373724e-02],\n",
       "       [-5.21553204e-02],\n",
       "       [-3.45596773e-02],\n",
       "       [-5.17388554e-02],\n",
       "       [ 8.98592190e-02],\n",
       "       [-5.17821678e-02],\n",
       "       [-5.06976931e-02],\n",
       "       [ 7.74693875e-02],\n",
       "       [ 4.86119082e-02],\n",
       "       [-5.33093447e-02],\n",
       "       [-5.00729957e-02],\n",
       "       [ 2.15596852e-01],\n",
       "       [-2.29507175e-02],\n",
       "       [ 1.04270571e-01],\n",
       "       [-5.17388554e-02],\n",
       "       [ 3.73575949e-01],\n",
       "       [-5.84803814e-02],\n",
       "       [-5.06456350e-02],\n",
       "       [ 4.06945201e-01],\n",
       "       [-3.40563794e-02],\n",
       "       [-5.03332863e-02],\n",
       "       [ 4.14451715e-02],\n",
       "       [-5.03940902e-02],\n",
       "       [ 8.62151509e-02],\n",
       "       [ 3.08253159e-02],\n",
       "       [-3.97654888e-02],\n",
       "       [-5.07410055e-02],\n",
       "       [-4.18478135e-02],\n",
       "       [ 1.83043246e-01],\n",
       "       [-5.06023226e-02],\n",
       "       [-5.03332863e-02],\n",
       "       [ 1.69039613e-01],\n",
       "       [-3.20608877e-02],\n",
       "       [-5.06023226e-02],\n",
       "       [-5.04807149e-02],\n",
       "       [-1.26952687e-02],\n",
       "       [-4.49713004e-02],\n",
       "       [-4.04943025e-02],\n",
       "       [-5.03332863e-02],\n",
       "       [-5.00729957e-02],\n",
       "       [-4.63768695e-02],\n",
       "       [-3.38308637e-02],\n",
       "       [-4.87975719e-02],\n",
       "       [-2.31068918e-02],\n",
       "       [-5.06976931e-02],\n",
       "       [-2.77921222e-02],\n",
       "       [-5.06456350e-02],\n",
       "       [-1.38057724e-02],\n",
       "       [-5.03940902e-02],\n",
       "       [-5.25545020e-02],\n",
       "       [ 1.20573507e-01],\n",
       "       [-6.68357090e-02],\n",
       "       [-5.03332863e-02],\n",
       "       [-5.00729957e-02],\n",
       "       [ 8.39841340e-04],\n",
       "       [-3.97654888e-02],\n",
       "       [-3.97654888e-02],\n",
       "       [-1.65475693e-02],\n",
       "       [-5.03940902e-02],\n",
       "       [-5.07324679e-02],\n",
       "       [-5.04374025e-02],\n",
       "       [-3.68502344e-02],\n",
       "       [-2.47467225e-02],\n",
       "       [-5.17388554e-02],\n",
       "       [-1.26952687e-02],\n",
       "       [-1.26952687e-02],\n",
       "       [-5.06976931e-02],\n",
       "       [-5.00729957e-02],\n",
       "       [-1.15499902e-02],\n",
       "       [-3.33102825e-02],\n",
       "       [-1.26952687e-02],\n",
       "       [-5.19991460e-02],\n",
       "       [ 4.95662376e-02],\n",
       "       [ 1.83043246e-01],\n",
       "       [ 4.74420001e-03],\n",
       "       [-2.77921222e-02],\n",
       "       [ 4.80815667e-01],\n",
       "       [-4.49713004e-02],\n",
       "       [-1.21746876e-02],\n",
       "       [-4.70536250e-02],\n",
       "       [-5.06456350e-02],\n",
       "       [-3.97654888e-02],\n",
       "       [-4.99428504e-02],\n",
       "       [ 1.03619845e-01],\n",
       "       [-2.62303788e-02],\n",
       "       [-1.15499902e-02],\n",
       "       [-2.67336766e-02],\n",
       "       [-3.32480791e-03],\n",
       "       [-9.05120063e-03],\n",
       "       [-2.52585579e-02],\n",
       "       [-9.05120063e-03],\n",
       "       [ 1.18708161e-01],\n",
       "       [-5.00729957e-02],\n",
       "       [-5.03940902e-02],\n",
       "       [-1.15499902e-02],\n",
       "       [ 4.11588519e-02],\n",
       "       [-4.49713004e-02],\n",
       "       [-5.06976931e-02],\n",
       "       [-1.15499902e-02],\n",
       "       [-5.00729957e-02],\n",
       "       [ 1.33337891e-02],\n",
       "       [-3.97654888e-02],\n",
       "       [-5.00729957e-02],\n",
       "       [-5.21553204e-02],\n",
       "       [-6.68357090e-02],\n",
       "       [-1.15499902e-02],\n",
       "       [-5.07497512e-02],\n",
       "       [-2.67336766e-02],\n",
       "       [-5.17388554e-02],\n",
       "       [-4.87975719e-02],\n",
       "       [-9.05120063e-03],\n",
       "       [-3.81169124e-02],\n",
       "       [-4.63508405e-02],\n",
       "       [ 4.14451715e-02],\n",
       "       [-2.31068918e-02],\n",
       "       [-5.21640661e-02],\n",
       "       [-5.11749619e-02],\n",
       "       [-4.12491451e-02],\n",
       "       [ 3.08253159e-02],\n",
       "       [-6.68357090e-02],\n",
       "       [-5.00729957e-02],\n",
       "       [-4.68714216e-02],\n",
       "       [ 1.22820752e-01],\n",
       "       [-1.38057724e-02],\n",
       "       [ 1.20573507e-01],\n",
       "       [-4.99066761e-03],\n",
       "       [-5.00729957e-02],\n",
       "       [-3.37267474e-02],\n",
       "       [-2.52585579e-02],\n",
       "       [-5.17388554e-02],\n",
       "       [-3.32480791e-03],\n",
       "       [ 3.62481057e-02],\n",
       "       [-5.00729957e-02],\n",
       "       [-3.67288348e-02],\n",
       "       [ 9.61409677e-02],\n",
       "       [-3.53926071e-02],\n",
       "       [ 2.48740588e-01],\n",
       "       [-5.06023226e-02],\n",
       "       [-4.87975719e-02],\n",
       "       [-5.06976931e-02],\n",
       "       [-5.09492379e-02],\n",
       "       [-4.68714216e-02],\n",
       "       [ 1.13285371e-01],\n",
       "       [ 1.59929443e-01],\n",
       "       [-1.26952687e-02],\n",
       "       [-1.15499902e-02],\n",
       "       [-1.99313468e-02],\n",
       "       [ 5.08068866e-02],\n",
       "       [-5.06976931e-02],\n",
       "       [-5.00729957e-02],\n",
       "       [-1.20966004e-02],\n",
       "       [ 5.68543737e-02],\n",
       "       [-5.12270200e-02],\n",
       "       [ 4.00664063e-03],\n",
       "       [-4.49713004e-02],\n",
       "       [-1.65475693e-02],\n",
       "       [-1.26952687e-02],\n",
       "       [-5.03940902e-02],\n",
       "       [ 1.27861643e-01],\n",
       "       [-5.03940902e-02],\n",
       "       [-5.17909135e-02],\n",
       "       [ 5.38958069e-02],\n",
       "       [-5.17821678e-02],\n",
       "       [-5.06976931e-02],\n",
       "       [-4.49713004e-02],\n",
       "       [ 3.94980580e-01],\n",
       "       [-5.03332863e-02],\n",
       "       [-4.28889758e-02],\n",
       "       [-1.26952687e-02],\n",
       "       [-5.17821678e-02],\n",
       "       [-5.17821678e-02],\n",
       "       [-2.02784703e-02],\n",
       "       [-4.87975719e-02],\n",
       "       [-1.21746876e-02],\n",
       "       [-1.15499902e-02],\n",
       "       [ 1.54775689e-01],\n",
       "       [-3.66420019e-02],\n",
       "       [ 3.62393600e-02],\n",
       "       [ 8.10093394e-02],\n",
       "       [-1.71100632e-03],\n",
       "       [-1.71100632e-03],\n",
       "       [-1.26952687e-02],\n",
       "       [ 1.54775689e-01],\n",
       "       [-1.26952687e-02],\n",
       "       [-1.26952687e-02],\n",
       "       [-3.79694838e-02],\n",
       "       [-2.40959960e-02],\n",
       "       [ 9.68972099e-03],\n",
       "       [ 1.64059317e-01],\n",
       "       [-1.26952687e-02],\n",
       "       [-5.05327730e-02],\n",
       "       [-5.17909135e-02],\n",
       "       [-5.06456350e-02],\n",
       "       [-1.15499902e-02],\n",
       "       [ 1.56243462e-02],\n",
       "       [ 4.06945201e-01],\n",
       "       [ 9.90214474e-02],\n",
       "       [-3.06032605e-02],\n",
       "       [-5.06976931e-02],\n",
       "       [-5.03940902e-02],\n",
       "       [-3.87243265e-02],\n",
       "       [-5.00729957e-02],\n",
       "       [-5.00729957e-02],\n",
       "       [-1.65475693e-02],\n",
       "       [-5.03940902e-02],\n",
       "       [-2.29507175e-02],\n",
       "       [-5.17821678e-02],\n",
       "       [-5.04807149e-02],\n",
       "       [-4.49713004e-02],\n",
       "       [ 4.03606969e-02],\n",
       "       [-1.18883679e-02],\n",
       "       [-5.06976931e-02],\n",
       "       [-5.00729957e-02],\n",
       "       [-3.66420019e-02],\n",
       "       [-3.97654888e-02],\n",
       "       [ 4.95662376e-02],\n",
       "       [-3.67288348e-02],\n",
       "       [-5.03332863e-02],\n",
       "       [-4.36597022e-03],\n",
       "       [ 1.64059317e-01],\n",
       "       [-1.26952687e-02],\n",
       "       [ 1.67175666e-02],\n",
       "       [-4.86934557e-02],\n",
       "       [ 9.90214474e-02],\n",
       "       [-3.56008396e-02],\n",
       "       [ 9.80844013e-02],\n",
       "       [-5.00729957e-02],\n",
       "       [-5.00729957e-02],\n",
       "       [-5.19991460e-02],\n",
       "       [ 9.61409677e-02],\n",
       "       [-5.17388554e-02],\n",
       "       [-5.06976931e-02],\n",
       "       [-1.26952687e-02],\n",
       "       [-1.65475693e-02],\n",
       "       [ 1.88100365e-03],\n",
       "       [-6.68357090e-02],\n",
       "       [-5.17909135e-02],\n",
       "       [ 5.17093661e-02],\n",
       "       [-1.06129441e-02],\n",
       "       [-5.03940902e-02],\n",
       "       [ 2.14548551e-02],\n",
       "       [-5.00729957e-02],\n",
       "       [-1.15499902e-02],\n",
       "       [-3.44555610e-02],\n",
       "       [-5.03940902e-02],\n",
       "       [-3.32480791e-03],\n",
       "       [ 1.97456831e-02],\n",
       "       [ 2.52723034e-01],\n",
       "       [-1.71100632e-03],\n",
       "       [-5.21553204e-02],\n",
       "       [-3.45596773e-02],\n",
       "       [-5.06976931e-02],\n",
       "       [-5.00729957e-02],\n",
       "       [ 6.85153916e-02],\n",
       "       [-3.68502344e-02],\n",
       "       [-3.33102825e-02],\n",
       "       [ 1.43749514e-02],\n",
       "       [-4.49713004e-02],\n",
       "       [-3.67373724e-02],\n",
       "       [ 4.25991958e-02],\n",
       "       [-3.40563794e-02],\n",
       "       [-5.04807149e-02],\n",
       "       [-3.33102825e-02],\n",
       "       [ 4.66688768e-04],\n",
       "       [-4.11189998e-02],\n",
       "       [ 9.54987788e-02],\n",
       "       [-5.03940902e-02],\n",
       "       [-5.07324679e-02],\n",
       "       [-4.36597022e-03],\n",
       "       [-5.21465746e-02],\n",
       "       [-3.32480791e-03],\n",
       "       [-6.68357090e-02],\n",
       "       [-8.73885193e-03],\n",
       "       [-3.97654888e-02],\n",
       "       [-5.03332863e-02],\n",
       "       [-1.21746876e-02],\n",
       "       [ 1.58065496e-02],\n",
       "       [-3.33102825e-02],\n",
       "       [-5.04807149e-02],\n",
       "       [ 7.74693875e-02],\n",
       "       [-8.73885193e-03],\n",
       "       [ 5.08068866e-02],\n",
       "       [-2.67336766e-02],\n",
       "       [ 9.29393936e-02],\n",
       "       [-5.03940902e-02],\n",
       "       [ 7.08681521e-03],\n",
       "       [-5.11141580e-02],\n",
       "       [-5.11141580e-02],\n",
       "       [-5.03940902e-02],\n",
       "       [-1.89422426e-02],\n",
       "       [-4.92748407e-02],\n",
       "       [-5.05327730e-02],\n",
       "       [-5.27800177e-02],\n",
       "       [ 8.62151509e-02],\n",
       "       [-5.03940902e-02],\n",
       "       [-3.45596773e-02],\n",
       "       [-3.97654888e-02],\n",
       "       [ 1.69039613e-01],\n",
       "       [ 2.11466977e-01],\n",
       "       [-5.17909135e-02],\n",
       "       [-1.35542276e-02],\n",
       "       [-5.12270200e-02],\n",
       "       [-5.03332863e-02],\n",
       "       [ 8.62151509e-02],\n",
       "       [-3.97654888e-02],\n",
       "       [-5.06456350e-02],\n",
       "       [-5.00729957e-02],\n",
       "       [ 4.14451715e-02],\n",
       "       [ 1.43749514e-02],\n",
       "       [ 4.14451715e-02],\n",
       "       [-4.49713004e-02],\n",
       "       [-3.97654888e-02],\n",
       "       [-6.68357090e-02],\n",
       "       [-5.06456350e-02],\n",
       "       [-5.00729957e-02],\n",
       "       [-4.63420947e-02],\n",
       "       [ 3.08253159e-02],\n",
       "       [ 1.00000000e+00],\n",
       "       [-4.98907923e-02],\n",
       "       [ 9.29393936e-02],\n",
       "       [-4.76262643e-02],\n",
       "       [ 3.08253159e-02],\n",
       "       [ 1.43749514e-02],\n",
       "       [ 1.97456831e-02],\n",
       "       [ 1.58065496e-02],\n",
       "       [-4.56568017e-02],\n",
       "       [-5.06023226e-02],\n",
       "       [ 3.73237571e-01],\n",
       "       [ 5.18567946e-02],\n",
       "       [-3.88977842e-02],\n",
       "       [ 5.08068866e-02],\n",
       "       [-5.17909135e-02],\n",
       "       [-1.15499902e-02],\n",
       "       [-3.87243265e-02],\n",
       "       [-5.00729957e-02],\n",
       "       [-5.07324679e-02],\n",
       "       [ 1.64059317e-01],\n",
       "       [-5.09059256e-02],\n",
       "       [ 4.06945201e-01],\n",
       "       [-1.20966004e-02],\n",
       "       [-3.67373724e-02],\n",
       "       [-5.07149764e-02],\n",
       "       [-5.04807149e-02],\n",
       "       [-1.26952687e-02],\n",
       "       [-3.87243265e-02],\n",
       "       [-1.20966004e-02],\n",
       "       [ 2.48740588e-01],\n",
       "       [-3.50890042e-02],\n",
       "       [ 3.62481057e-02],\n",
       "       [-1.15499902e-02],\n",
       "       [ 4.14451715e-02],\n",
       "       [-4.70883998e-02],\n",
       "       [-3.97654888e-02],\n",
       "       [-5.09059256e-02],\n",
       "       [ 4.06945201e-01],\n",
       "       [-4.49713004e-02],\n",
       "       [-3.45596773e-02],\n",
       "       [-5.06456350e-02],\n",
       "       [ 1.88100365e-03],\n",
       "       [-5.21465746e-02],\n",
       "       [-3.97654888e-02],\n",
       "       [-3.97654888e-02],\n",
       "       [ 4.37357286e-02],\n",
       "       [-4.87975719e-02],\n",
       "       [-2.31068918e-02],\n",
       "       [-5.07237222e-02],\n",
       "       [-1.26952687e-02],\n",
       "       [-5.03332863e-02],\n",
       "       [ 3.73237571e-01],\n",
       "       [-2.77140351e-02],\n",
       "       [-6.68357090e-02],\n",
       "       [-3.97654888e-02],\n",
       "       [-3.97654888e-02],\n",
       "       [-3.33102825e-02],\n",
       "       [ 4.74420001e-03],\n",
       "       [ 1.00000000e+00],\n",
       "       [-5.03940902e-02],\n",
       "       [-5.03940902e-02],\n",
       "       [-4.36597022e-03],\n",
       "       [ 9.73555877e-02],\n",
       "       [ 4.79514214e-01],\n",
       "       [-3.33102825e-02],\n",
       "       [-5.03332863e-02],\n",
       "       [ 8.10093394e-02],\n",
       "       [-2.46686353e-02],\n",
       "       [-3.97654888e-02],\n",
       "       [ 4.37357286e-02],\n",
       "       [-5.06976931e-02],\n",
       "       [-1.89422426e-02],\n",
       "       [-4.08587093e-02],\n",
       "       [-4.70536250e-02],\n",
       "       [-5.03940902e-02],\n",
       "       [ 6.85153916e-02],\n",
       "       [-3.66420019e-02],\n",
       "       [-5.06023226e-02],\n",
       "       [-4.28889758e-02],\n",
       "       [-5.00729957e-02],\n",
       "       [ 1.13285371e-01],\n",
       "       [-3.66420019e-02],\n",
       "       [-5.19991460e-02],\n",
       "       [-5.17821678e-02],\n",
       "       [ 1.83043246e-01],\n",
       "       [-5.06456350e-02],\n",
       "       [ 9.54987788e-02],\n",
       "       [ 1.56243462e-02],\n",
       "       [-5.06976931e-02],\n",
       "       [-1.65475693e-02],\n",
       "       [-4.94222693e-02],\n",
       "       [-4.70536250e-02],\n",
       "       [-5.04807149e-02],\n",
       "       [-4.49713004e-02],\n",
       "       [-5.17909135e-02],\n",
       "       [-1.89422426e-02],\n",
       "       [-5.06976931e-02],\n",
       "       [-5.06976931e-02],\n",
       "       [-4.08587093e-02],\n",
       "       [-5.07237222e-02],\n",
       "       [ 3.73237571e-01],\n",
       "       [-5.17821678e-02],\n",
       "       [ 5.18567946e-02],\n",
       "       [-4.36597022e-03],\n",
       "       [-1.80051965e-02],\n",
       "       [-5.21553204e-02],\n",
       "       [-5.17388554e-02],\n",
       "       [-5.12270200e-02],\n",
       "       [-6.18800427e-03],\n",
       "       [-2.39918798e-02],\n",
       "       [ 9.80844013e-02],\n",
       "       [-5.06976931e-02],\n",
       "       [-1.26952687e-02],\n",
       "       [ 7.79899687e-02],\n",
       "       [-2.91708875e-03],\n",
       "       [-5.03940902e-02],\n",
       "       [-3.97654888e-02],\n",
       "       [-1.28426973e-02],\n",
       "       [-4.87542595e-02],\n",
       "       [-5.17821678e-02],\n",
       "       [-1.65475693e-02],\n",
       "       [-3.97654888e-02],\n",
       "       [-1.21746876e-02],\n",
       "       [ 1.83043246e-01],\n",
       "       [-4.91011748e-02],\n",
       "       [-5.23114947e-02],\n",
       "       [-5.06456350e-02],\n",
       "       [-6.68357090e-02],\n",
       "       [-5.06456350e-02],\n",
       "       [-3.97654888e-02],\n",
       "       [ 4.37357286e-02],\n",
       "       [-5.04113735e-02],\n",
       "       [-1.65475693e-02],\n",
       "       [-4.49713004e-02],\n",
       "       [-1.71100632e-03],\n",
       "       [-5.00729957e-02],\n",
       "       [-6.68357090e-02],\n",
       "       [-5.03332863e-02],\n",
       "       [ 1.02190479e-02],\n",
       "       [-5.34047151e-02],\n",
       "       [-8.73885193e-03],\n",
       "       [ 1.27861643e-01],\n",
       "       [-4.87975719e-02],\n",
       "       [-6.68357090e-02],\n",
       "       [-4.08587093e-02],\n",
       "       [ 1.58065496e-02],\n",
       "       [-5.23635528e-02],\n",
       "       [ 5.08068866e-02],\n",
       "       [ 1.02190479e-02],\n",
       "       [-5.06976931e-02],\n",
       "       [-3.67373724e-02],\n",
       "       [-2.77921222e-02],\n",
       "       [-5.17821678e-02],\n",
       "       [-5.04807149e-02],\n",
       "       [-4.95524146e-02],\n",
       "       [ 1.06326867e-01],\n",
       "       [-4.87975719e-02],\n",
       "       [-5.00729957e-02],\n",
       "       [ 5.08068866e-02],\n",
       "       [-4.99066761e-03],\n",
       "       [-5.03332863e-02],\n",
       "       [-4.49713004e-02],\n",
       "       [-2.28364560e-03],\n",
       "       [-5.34307442e-02],\n",
       "       [-4.87975719e-02],\n",
       "       [-5.11141580e-02],\n",
       "       [ 7.79899687e-02],\n",
       "       [-5.03940902e-02],\n",
       "       [ 1.88100365e-03],\n",
       "       [ 1.18708161e-01],\n",
       "       [-1.71100632e-03],\n",
       "       [-5.06456350e-02],\n",
       "       [-3.50890042e-02],\n",
       "       [ 1.52078812e-02],\n",
       "       [-1.26952687e-02],\n",
       "       [-4.73659737e-02],\n",
       "       [ 2.76470280e-01],\n",
       "       [-1.15499902e-02],\n",
       "       [-2.67336766e-02],\n",
       "       [-5.17821678e-02],\n",
       "       [-3.74576485e-02],\n",
       "       [-4.28889758e-02],\n",
       "       [-1.28426973e-02],\n",
       "       [ 7.79899687e-02],\n",
       "       [-3.97654888e-02],\n",
       "       [-3.97654888e-02],\n",
       "       [-3.79782296e-02],\n",
       "       [ 3.83129388e-02],\n",
       "       [-4.70536250e-02],\n",
       "       [-4.36525642e-02],\n",
       "       [-5.03940902e-02],\n",
       "       [ 4.25991958e-02],\n",
       "       [-5.64240858e-02],\n",
       "       [-4.80947873e-02],\n",
       "       [-1.68599180e-02],\n",
       "       [-5.17909135e-02],\n",
       "       [-4.63335572e-02],\n",
       "       [-5.03940902e-02],\n",
       "       [-5.03940902e-02],\n",
       "       [ 1.06326867e-01],\n",
       "       [-1.26952687e-02],\n",
       "       [-5.03940902e-02],\n",
       "       [-4.49365256e-02],\n",
       "       [-4.49713004e-02],\n",
       "       [-5.21553204e-02],\n",
       "       [-6.18800427e-03],\n",
       "       [-3.97654888e-02],\n",
       "       [-4.36597022e-03],\n",
       "       [-1.80051965e-02],\n",
       "       [-4.36597022e-03],\n",
       "       [-5.06976931e-02]])"
      ]
     },
     "execution_count": 23,
     "metadata": {},
     "output_type": "execute_result"
    }
   ],
   "source": [
    "min_max_norm_df = continuous_ex.copy()\n",
    "fare_column = zscore_norm_df['Fare'].values.reshape(-1,1)\n",
    "transformer = MaxAbsScaler().fit(fare_column)\n",
    "fare_column = transformer.transform(fare_column)\n",
    "fare_column"
   ]
  },
  {
   "cell_type": "code",
   "execution_count": 24,
   "metadata": {
    "colab": {
     "base_uri": "https://localhost:8080/",
     "height": 284
    },
    "colab_type": "code",
    "id": "B6opI3q0gAg6",
    "outputId": "3f2c5e19-c3cf-4316-e126-9da3d01c61ca"
   },
   "outputs": [
    {
     "data": {
      "text/plain": [
       "<matplotlib.axes._subplots.AxesSubplot at 0x7f27fdb1a4d0>"
      ]
     },
     "execution_count": 24,
     "metadata": {},
     "output_type": "execute_result"
    },
    {
     "data": {
      "image/png": "[encoded data removed]",
      "text/plain": [
       "<Figure size 432x288 with 1 Axes>"
      ]
     },
     "metadata": {
      "needs_background": "light"
     },
     "output_type": "display_data"
    }
   ],
   "source": [
    "fare_column = stats.zscore(fare_column)\n",
    "# fare_column\n",
    "zscore_norm_df['Fare'] = fare_column\n",
    "zscore_norm_df.plot.line(y='Fare')"
   ]
  },
  {
   "cell_type": "code",
   "execution_count": null,
   "metadata": {},
   "outputs": [],
   "source": []
  }
 ],
 "metadata": {
  "colab": {
   "collapsed_sections": [
    "tKYycInPjMh4"
   ],
   "name": "Processamento_de_dados.ipynb",
   "provenance": []
  },
  "kernelspec": {
   "display_name": "Python 3.7.7 64-bit (conda)",
   "language": "python",
   "name": "python37764bitcondae02c00d701d64665b233568d06df9a1a"
  },
  "language_info": {
   "codemirror_mode": {
    "name": "ipython",
    "version": 3
   },
   "file_extension": ".py",
   "mimetype": "text/x-python",
   "name": "python",
   "nbconvert_exporter": "python",
   "pygments_lexer": "ipython3",
   "version": "3.7.7"
  }
 },
 "nbformat": 4,
 "nbformat_minor": 4
}
